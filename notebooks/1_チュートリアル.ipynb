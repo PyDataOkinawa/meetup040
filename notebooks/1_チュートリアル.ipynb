{
 "cells": [
  {
   "cell_type": "markdown",
   "metadata": {},
   "source": [
    "# やること\n",
    "\n",
    "- mlflowの使い方\n",
    "- クラサバでやる"
   ]
  },
  {
   "cell_type": "markdown",
   "metadata": {},
   "source": [
    "## mlflow install"
   ]
  },
  {
   "cell_type": "code",
   "execution_count": 4,
   "metadata": {},
   "outputs": [],
   "source": [
    "# !pip install mlflow"
   ]
  },
  {
   "cell_type": "markdown",
   "metadata": {},
   "source": [
    "## mlflow serverを起動"
   ]
  },
  {
   "cell_type": "markdown",
   "metadata": {},
   "source": [
    "コンソールをたてて起動しておく"
   ]
  },
  {
   "cell_type": "code",
   "execution_count": 14,
   "metadata": {},
   "outputs": [],
   "source": [
    "# mlflow server -h 0.0.0.0 -p 5000"
   ]
  },
  {
   "cell_type": "markdown",
   "metadata": {},
   "source": [
    "## import"
   ]
  },
  {
   "cell_type": "code",
   "execution_count": 98,
   "metadata": {},
   "outputs": [],
   "source": [
    "import mlflow\n",
    "from sklearn.ensemble import RandomForestClassifier\n",
    "from sklearn.model_selection import train_test_split\n",
    "from sklearn.metrics import classification_report, accuracy_score, precision_score, recall_score, f1_score\n",
    "from sklearn.datasets import load_digits\n",
    "import numpy as np\n",
    "import pandas as pd\n",
    "\n",
    "import pickle\n",
    "import os"
   ]
  },
  {
   "cell_type": "markdown",
   "metadata": {},
   "source": [
    "## データの用意"
   ]
  },
  {
   "cell_type": "code",
   "execution_count": 99,
   "metadata": {},
   "outputs": [
    {
     "data": {
      "text/plain": [
       "dict_keys(['data', 'target', 'target_names', 'images', 'DESCR'])"
      ]
     },
     "execution_count": 99,
     "metadata": {},
     "output_type": "execute_result"
    }
   ],
   "source": [
    "d = load_digits()\n",
    "data = d['data']\n",
    "d.keys()"
   ]
  },
  {
   "cell_type": "code",
   "execution_count": 100,
   "metadata": {},
   "outputs": [],
   "source": [
    "X = pd.DataFrame(data)\n",
    "y = d['target']\n",
    "y_target_names = [str(i) for i in d['target_names'].tolist()]"
   ]
  },
  {
   "cell_type": "markdown",
   "metadata": {},
   "source": [
    "## 分析する"
   ]
  },
  {
   "cell_type": "code",
   "execution_count": 101,
   "metadata": {},
   "outputs": [],
   "source": [
    "X_train, X_test, y_train, y_test = train_test_split(X, y, test_size=0.3, random_state=71)"
   ]
  },
  {
   "cell_type": "code",
   "execution_count": 102,
   "metadata": {},
   "outputs": [
    {
     "data": {
      "text/plain": [
       "((1257, 64), (540, 64))"
      ]
     },
     "execution_count": 102,
     "metadata": {},
     "output_type": "execute_result"
    }
   ],
   "source": [
    "X_train.shape, X_test.shape"
   ]
  },
  {
   "cell_type": "code",
   "execution_count": 103,
   "metadata": {},
   "outputs": [
    {
     "data": {
      "text/plain": [
       "RandomForestClassifier(bootstrap=True, class_weight=None, criterion='gini',\n",
       "                       max_depth=3, max_features='auto', max_leaf_nodes=None,\n",
       "                       min_impurity_decrease=0.0, min_impurity_split=None,\n",
       "                       min_samples_leaf=1, min_samples_split=2,\n",
       "                       min_weight_fraction_leaf=0.0, n_estimators=100,\n",
       "                       n_jobs=None, oob_score=False, random_state=71, verbose=0,\n",
       "                       warm_start=False)"
      ]
     },
     "execution_count": 103,
     "metadata": {},
     "output_type": "execute_result"
    }
   ],
   "source": [
    "rf_clf = RandomForestClassifier(n_estimators=100, max_depth=3, random_state=71)\n",
    "rf_clf.fit(X_train, y_train)"
   ]
  },
  {
   "cell_type": "code",
   "execution_count": 104,
   "metadata": {},
   "outputs": [
    {
     "name": "stdout",
     "output_type": "stream",
     "text": [
      "              precision    recall  f1-score   support\n",
      "\n",
      "           0       0.93      1.00      0.96        52\n",
      "           1       0.93      0.63      0.75        63\n",
      "           2       0.82      0.94      0.87        52\n",
      "           3       0.81      0.78      0.79        59\n",
      "           4       0.94      0.94      0.94        65\n",
      "           5       0.96      0.82      0.88        56\n",
      "           6       0.92      0.98      0.95        45\n",
      "           7       0.81      0.94      0.87        49\n",
      "           8       0.77      0.66      0.71        50\n",
      "           9       0.65      0.84      0.73        49\n",
      "\n",
      "    accuracy                           0.85       540\n",
      "   macro avg       0.85      0.85      0.85       540\n",
      "weighted avg       0.86      0.85      0.85       540\n",
      "\n"
     ]
    }
   ],
   "source": [
    "# 精度確認\n",
    "y_pred = rf_clf.predict(X_test)\n",
    "cr_print = classification_report(y_pred=y_pred, y_true=y_test, target_names=y_target_names)\n",
    "print(cr_print)"
   ]
  },
  {
   "cell_type": "markdown",
   "metadata": {},
   "source": [
    "## mlflowへ保存"
   ]
  },
  {
   "cell_type": "code",
   "execution_count": 105,
   "metadata": {},
   "outputs": [
    {
     "name": "stdout",
     "output_type": "stream",
     "text": [
      "INFO: 'mnist' does not exist. Creating a new experiment\n"
     ]
    }
   ],
   "source": [
    "# mlflow serverのurlを指定する → 指定しない場合はカレントディレクトリにログが保存される\n",
    "remote_server_uri = 'http://host.docker.internal:5000/'\n",
    "mlflow.set_tracking_uri(remote_server_uri)\n",
    "\n",
    "# 対象のexperimentを指定する\n",
    "# experiment is 何？ → モデルのリポジトリ名的なものと思ってもらえれば\n",
    "mlflow.set_experiment('mnist')"
   ]
  },
  {
   "cell_type": "markdown",
   "metadata": {},
   "source": [
    "experimentが存在しない場合は自動で作成される"
   ]
  },
  {
   "cell_type": "code",
   "execution_count": 106,
   "metadata": {},
   "outputs": [],
   "source": [
    "model_save_path = os.path.join(os.getcwd(), 'tmp.obj')\n",
    "with open(model_save_path, mode='wb') as f:\n",
    "    pickle.dumps(rf_clf)"
   ]
  },
  {
   "cell_type": "code",
   "execution_count": 109,
   "metadata": {},
   "outputs": [
    {
     "data": {
      "text/plain": [
       "'/app/notebooks/tmp.obj'"
      ]
     },
     "execution_count": 109,
     "metadata": {},
     "output_type": "execute_result"
    }
   ],
   "source": [
    "model_save_path"
   ]
  },
  {
   "cell_type": "code",
   "execution_count": 107,
   "metadata": {},
   "outputs": [
    {
     "name": "stdout",
     "output_type": "stream",
     "text": [
      "total 128K\r\n",
      "-rw-r--r-- 1 root root    0 Nov 30 02:38 tmp.obj\r\n",
      "-rw-r--r-- 1 root root 123K Nov 30 02:37 1_チュートリアル.ipynb\r\n",
      "drwxr-xr-x 3 root root   96 Nov 30 02:10 mlruns\r\n",
      "-rw-r--r-- 1 root root  555 Nov 29 11:25 2_Kaggleデータ分析でMLFlowを実践する.ipynb\r\n"
     ]
    }
   ],
   "source": [
    "!ls -lht"
   ]
  },
  {
   "cell_type": "code",
   "execution_count": 111,
   "metadata": {},
   "outputs": [],
   "source": [
    "with mlflow.start_run() as run:\n",
    "    # paramterの保存\n",
    "    for k, v in rf_clf.get_params().items():\n",
    "        mlflow.log_param(k, v)\n",
    "    \n",
    "    # mlflow.log_params(rf_clf.get_params())  でも良い\n",
    "    # mlflow.xxxs 系はdictが渡せる\n",
    "\n",
    "    # metrics(精度とかその辺)の保存\n",
    "    mlflow.log_metric('accuracy', accuracy_score(y_pred=y_pred, y_true=y_test))\n",
    "    mlflow.log_metric('precision', precision_score(y_pred=y_pred, y_true=y_test, average='micro'))\n",
    "    mlflow.log_metric('recall', recall_score(y_pred=y_pred, y_true=y_test, average='micro'))\n",
    "    mlflow.log_metric('f1_score', f1_score(y_pred=y_pred, y_true=y_test, average='micro'))\n",
    "    \n",
    "    # その他的な値を保存したい場合は、tagで保存可能\n",
    "    mlflow.set_tag('example', 10)\n",
    "    mlflow.set_tag('example2', 'test')\n",
    "    \n",
    "    # モデルの保存。。。はできない\n",
    "    # mlflow.log_artifact(model_save_path)"
   ]
  },
  {
   "cell_type": "markdown",
   "metadata": {},
   "source": [
    "## 保存されているか確認"
   ]
  },
  {
   "cell_type": "code",
   "execution_count": 112,
   "metadata": {},
   "outputs": [],
   "source": [
    "# http://localhost:5000/ を参照"
   ]
  },
  {
   "cell_type": "markdown",
   "metadata": {},
   "source": [
    "## 保存されているか、プログラマブルに確認"
   ]
  },
  {
   "cell_type": "code",
   "execution_count": 113,
   "metadata": {},
   "outputs": [
    {
     "data": {
      "text/plain": [
       "<Experiment: artifact_location='./mlruns/0', experiment_id='0', lifecycle_stage='active', name='mnist', tags={}>"
      ]
     },
     "execution_count": 113,
     "metadata": {},
     "output_type": "execute_result"
    }
   ],
   "source": [
    "# client側で取得方法\n",
    "client = mlflow.tracking.MlflowClient(tracking_uri=remote_server_uri)\n",
    "\n",
    "# experiment_nameでexperimentを検索\n",
    "target_experiment = client.get_experiment_by_name(experiment_name)\n",
    "target_experiment"
   ]
  },
  {
   "cell_type": "code",
   "execution_count": 86,
   "metadata": {},
   "outputs": [],
   "source": [
    "run_ids = client.search_runs([target_experiment.experiment_id])"
   ]
  },
  {
   "cell_type": "code",
   "execution_count": 114,
   "metadata": {},
   "outputs": [
    {
     "data": {
      "text/plain": [
       "<Run: data=<RunData: metrics={'accuracy': 0.848148148148,\n",
       " 'f1_score': 0.848148148148,\n",
       " 'precision': 0.848148148148,\n",
       " 'recall': 0.848148148148}, params={'bootstrap': 'True',\n",
       " 'class_weight': 'None',\n",
       " 'criterion': 'gini',\n",
       " 'max_depth': '3',\n",
       " 'max_features': 'auto',\n",
       " 'max_leaf_nodes': 'None',\n",
       " 'min_impurity_decrease': '0.0',\n",
       " 'min_impurity_split': 'None',\n",
       " 'min_samples_leaf': '1',\n",
       " 'min_samples_split': '2',\n",
       " 'min_weight_fraction_leaf': '0.0',\n",
       " 'n_estimators': '100',\n",
       " 'n_jobs': 'None',\n",
       " 'oob_score': 'False',\n",
       " 'random_state': '71',\n",
       " 'verbose': '0',\n",
       " 'warm_start': 'False'}, tags={'example': '10',\n",
       " 'example2': 'test',\n",
       " 'mlflow.source.name': '/opt/conda/lib/python3.7/site-packages/ipykernel_launcher.py',\n",
       " 'mlflow.source.type': 'LOCAL',\n",
       " 'mlflow.user': 'root'}>, info=<RunInfo: artifact_uri='./mlruns/1/191c732924bf4e7b912ca5afec6ab281/artifacts', end_time=1575079873092, experiment_id='1', lifecycle_stage='active', run_id='191c732924bf4e7b912ca5afec6ab281', run_uuid='191c732924bf4e7b912ca5afec6ab281', start_time=1575079868416, status='FINISHED', user_id='root'>>"
      ]
     },
     "execution_count": 114,
     "metadata": {},
     "output_type": "execute_result"
    }
   ],
   "source": [
    "run_ids[0]"
   ]
  },
  {
   "cell_type": "code",
   "execution_count": 115,
   "metadata": {},
   "outputs": [
    {
     "data": {
      "text/plain": [
       "4"
      ]
     },
     "execution_count": 115,
     "metadata": {},
     "output_type": "execute_result"
    }
   ],
   "source": [
    "len(run_ids)"
   ]
  },
  {
   "cell_type": "code",
   "execution_count": null,
   "metadata": {},
   "outputs": [],
   "source": []
  }
 ],
 "metadata": {
  "kernelspec": {
   "display_name": "Python 3",
   "language": "python",
   "name": "python3"
  },
  "language_info": {
   "codemirror_mode": {
    "name": "ipython",
    "version": 3
   },
   "file_extension": ".py",
   "mimetype": "text/x-python",
   "name": "python",
   "nbconvert_exporter": "python",
   "pygments_lexer": "ipython3",
   "version": "3.7.3"
  }
 },
 "nbformat": 4,
 "nbformat_minor": 2
}
